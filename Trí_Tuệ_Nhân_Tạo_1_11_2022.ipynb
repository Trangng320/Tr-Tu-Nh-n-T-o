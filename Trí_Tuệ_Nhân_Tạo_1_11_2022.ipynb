{
  "nbformat": 4,
  "nbformat_minor": 0,
  "metadata": {
    "colab": {
      "provenance": [],
      "authorship_tag": "ABX9TyPv+pyqqWaauFYwLVOfNcc5",
      "include_colab_link": true
    },
    "kernelspec": {
      "name": "python3",
      "display_name": "Python 3"
    },
    "language_info": {
      "name": "python"
    }
  },
  "cells": [
    {
      "cell_type": "markdown",
      "metadata": {
        "id": "view-in-github",
        "colab_type": "text"
      },
      "source": [
        "<a href=\"https://colab.research.google.com/github/Trangng320/Tri-Tue-Nhan-Tao/blob/main/Tr%C3%AD_Tu%E1%BB%87_Nh%C3%A2n_T%E1%BA%A1o_1_11_2022.ipynb\" target=\"_parent\"><img src=\"https://colab.research.google.com/assets/colab-badge.svg\" alt=\"Open In Colab\"/></a>"
      ]
    },
    {
      "cell_type": "code",
      "execution_count": null,
      "metadata": {
        "colab": {
          "base_uri": "https://localhost:8080/"
        },
        "id": "rPX3gH9SFPuX",
        "outputId": "96480054-3dd6-433d-cb35-387f52e62a45"
      },
      "outputs": [
        {
          "output_type": "execute_result",
          "data": {
            "text/plain": [
              "(60000, 28, 28)"
            ]
          },
          "metadata": {},
          "execution_count": 20
        }
      ],
      "source": [
        "from keras.datasets import mnist\n",
        "(X_train, Y_train),(X_test, Y_test) = mnist.load_data()\n",
        "X_train.shape"
      ]
    },
    {
      "cell_type": "code",
      "source": [
        "Y_test.shape"
      ],
      "metadata": {
        "colab": {
          "base_uri": "https://localhost:8080/"
        },
        "id": "rlVGPs2CGN7E",
        "outputId": "f7702b6f-08cc-4af3-81f9-5f17ebd88ba8"
      },
      "execution_count": null,
      "outputs": [
        {
          "output_type": "execute_result",
          "data": {
            "text/plain": [
              "(10000,)"
            ]
          },
          "metadata": {},
          "execution_count": 21
        }
      ]
    },
    {
      "cell_type": "code",
      "source": [
        "X_test.shape"
      ],
      "metadata": {
        "colab": {
          "base_uri": "https://localhost:8080/"
        },
        "id": "jTwRpAoaGKzy",
        "outputId": "a1bc760c-d031-4032-b6ae-05598fcd5900"
      },
      "execution_count": null,
      "outputs": [
        {
          "output_type": "execute_result",
          "data": {
            "text/plain": [
              "(10000, 28, 28)"
            ]
          },
          "metadata": {},
          "execution_count": 22
        }
      ]
    },
    {
      "cell_type": "code",
      "source": [
        "Y_train.shape"
      ],
      "metadata": {
        "colab": {
          "base_uri": "https://localhost:8080/"
        },
        "id": "vkiH-Z2OF5XH",
        "outputId": "54bce914-9197-451c-8e54-0243b48be7e1"
      },
      "execution_count": null,
      "outputs": [
        {
          "output_type": "execute_result",
          "data": {
            "text/plain": [
              "(60000,)"
            ]
          },
          "metadata": {},
          "execution_count": 23
        }
      ]
    },
    {
      "cell_type": "code",
      "source": [
        "from keras.utils import to_categorical\n",
        "Y_train = to_categorical (Y_train)\n",
        "Y_test= to_categorical(Y_test )\n",
        "Y_train.shape"
      ],
      "metadata": {
        "colab": {
          "base_uri": "https://localhost:8080/"
        },
        "id": "TqDis78JGmIS",
        "outputId": "8e0444ac-d98c-43da-bccb-77d9cd31d1b2"
      },
      "execution_count": null,
      "outputs": [
        {
          "output_type": "execute_result",
          "data": {
            "text/plain": [
              "(60000, 10)"
            ]
          },
          "metadata": {},
          "execution_count": 24
        }
      ]
    },
    {
      "cell_type": "code",
      "source": [
        "from keras.models import Sequential, Model\n",
        "from keras.layers import Dense, Dropout,Flatten\n",
        "from keras.layers import Conv2D, MaxPooling2D\n",
        "model = Sequential()\n",
        "model.add(Conv2D(32, kernel_size=(3,3),activation = 'relu',input_shape = (28,28,1), padding = 'same'))\n",
        "model.add(MaxPooling2D((2,2),padding = 'same'))\n",
        "model.add(Conv2D(64, kernel_size=(3,3),activation = 'relu',padding='same'))\n",
        "model.add(MaxPooling2D((2,2),padding = 'same'))\n",
        "model.add(Conv2D(128,kernel_size=(3,3),activation = 'relu',padding='same'))\n",
        "model.add(MaxPooling2D((2,2),padding = 'same'))\n",
        "model.add(Flatten())\n",
        "model.add(Dense(128,activation = 'relu'))\n",
        "model.add(Dense(10,activation = 'softmax'))"
      ],
      "metadata": {
        "id": "Qg2U5iUZG1SH"
      },
      "execution_count": null,
      "outputs": []
    },
    {
      "cell_type": "code",
      "source": [
        "model.compile (loss = 'categorical_crossentropy',metrics = ['accuracy'],optimizer = 'adam')"
      ],
      "metadata": {
        "id": "CSDQB4h5Ig8v"
      },
      "execution_count": null,
      "outputs": []
    },
    {
      "cell_type": "code",
      "source": [
        "history = model.fit(X_train, Y_train, batch_size = 128, epochs = 20, verbose = 2)"
      ],
      "metadata": {
        "colab": {
          "base_uri": "https://localhost:8080/"
        },
        "id": "E_lyZxqMMUID",
        "outputId": "50448a5a-278f-462f-eb19-59ac68e58029"
      },
      "execution_count": null,
      "outputs": [
        {
          "output_type": "stream",
          "name": "stdout",
          "text": [
            "Epoch 1/20\n",
            "469/469 - 64s - loss: 0.7301 - accuracy: 0.9119 - 64s/epoch - 137ms/step\n",
            "Epoch 2/20\n",
            "469/469 - 64s - loss: 0.0515 - accuracy: 0.9839 - 64s/epoch - 137ms/step\n",
            "Epoch 3/20\n",
            "469/469 - 64s - loss: 0.0350 - accuracy: 0.9892 - 64s/epoch - 136ms/step\n",
            "Epoch 4/20\n",
            "469/469 - 64s - loss: 0.0264 - accuracy: 0.9918 - 64s/epoch - 137ms/step\n",
            "Epoch 5/20\n",
            "469/469 - 66s - loss: 0.0227 - accuracy: 0.9923 - 66s/epoch - 141ms/step\n",
            "Epoch 6/20\n",
            "469/469 - 64s - loss: 0.0205 - accuracy: 0.9931 - 64s/epoch - 136ms/step\n",
            "Epoch 7/20\n",
            "469/469 - 65s - loss: 0.0203 - accuracy: 0.9935 - 65s/epoch - 138ms/step\n",
            "Epoch 8/20\n",
            "469/469 - 64s - loss: 0.0158 - accuracy: 0.9949 - 64s/epoch - 137ms/step\n",
            "Epoch 9/20\n",
            "469/469 - 64s - loss: 0.0171 - accuracy: 0.9945 - 64s/epoch - 136ms/step\n",
            "Epoch 10/20\n",
            "469/469 - 64s - loss: 0.0141 - accuracy: 0.9952 - 64s/epoch - 135ms/step\n",
            "Epoch 11/20\n",
            "469/469 - 64s - loss: 0.0153 - accuracy: 0.9950 - 64s/epoch - 136ms/step\n",
            "Epoch 12/20\n",
            "469/469 - 64s - loss: 0.0170 - accuracy: 0.9944 - 64s/epoch - 137ms/step\n",
            "Epoch 13/20\n",
            "469/469 - 64s - loss: 0.0108 - accuracy: 0.9965 - 64s/epoch - 136ms/step\n",
            "Epoch 14/20\n",
            "469/469 - 63s - loss: 0.0125 - accuracy: 0.9961 - 63s/epoch - 135ms/step\n",
            "Epoch 15/20\n",
            "469/469 - 63s - loss: 0.0114 - accuracy: 0.9963 - 63s/epoch - 135ms/step\n",
            "Epoch 16/20\n",
            "469/469 - 64s - loss: 0.0141 - accuracy: 0.9955 - 64s/epoch - 136ms/step\n",
            "Epoch 17/20\n",
            "469/469 - 63s - loss: 0.0099 - accuracy: 0.9970 - 63s/epoch - 135ms/step\n",
            "Epoch 18/20\n",
            "469/469 - 64s - loss: 0.0131 - accuracy: 0.9960 - 64s/epoch - 135ms/step\n",
            "Epoch 19/20\n",
            "469/469 - 64s - loss: 0.0125 - accuracy: 0.9963 - 64s/epoch - 137ms/step\n",
            "Epoch 20/20\n",
            "469/469 - 63s - loss: 0.0099 - accuracy: 0.9970 - 63s/epoch - 135ms/step\n"
          ]
        }
      ]
    },
    {
      "cell_type": "code",
      "source": [
        "model.save('abc.h5')"
      ],
      "metadata": {
        "id": "eF-lrX0fM7vn"
      },
      "execution_count": null,
      "outputs": []
    },
    {
      "cell_type": "code",
      "source": [
        "from keras.models import load_model\n",
        "model100 = load_model('abc.h5')"
      ],
      "metadata": {
        "id": "14Nxmi3-Tu4V"
      },
      "execution_count": null,
      "outputs": []
    },
    {
      "cell_type": "code",
      "source": [
        "from tensorflow.keras.utils import load_img\n",
        "from keras.utils.image_utils import img_to_array\n",
        "import matplotlib.pyplot as plt\n",
        "import numpy as np\n",
        "\n",
        "url = \"sobon.jpg\"\n",
        "img = load_img(url, target_size=(28,28,))\n",
        "plt.imshow(img)\n",
        "img = img_to_array(img)\n",
        "img = img.reshape(-1, 28, 28,)\n",
        "img = img.astype(\"float32\")\n",
        "img = img/255\n",
        "img = img.reshape(-1, 28,28,)\n",
        "\n",
        "class_names = [\"soba\", \"sobon\", \"sohai\", \"sokhong\", \"somot\"]\n",
        "prediction = model.predict(img)\n",
        "np.argmax(prediction, axis=1)\n",
        "index = -1\n",
        "max_value = -1\n",
        "\n",
        "for i in range(0, len(prediction[0])):\n",
        "  if max_value < prediction[0][i]:\n",
        "    max_value = prediction[0][i]\n",
        "    index = i\n",
        "print(prediction)\n",
        "print(\"Kết quả: \", class_names[index])\n",
        "print(\"Độ chính xác: \", max_value)"
      ],
      "metadata": {
        "colab": {
          "base_uri": "https://localhost:8080/",
          "height": 421
        },
        "id": "KpvqrbMmT2vZ",
        "outputId": "be13402e-ac9e-43a4-ef0c-0cec5f091490"
      },
      "execution_count": null,
      "outputs": [
        {
          "output_type": "stream",
          "name": "stdout",
          "text": [
            "1/1 [==============================] - 0s 15ms/step\n",
            "[[0.09818534 0.11066779 0.09862728 0.09943624 0.10075084 0.0956976\n",
            "  0.0993375  0.09984219 0.09767364 0.0997816 ]\n",
            " [0.09834902 0.11075043 0.09873831 0.09972894 0.10046044 0.09569263\n",
            "  0.09915427 0.09984487 0.09762304 0.09965797]\n",
            " [0.098473   0.11051017 0.09909886 0.09981535 0.10027853 0.09575399\n",
            "  0.09906135 0.0999008  0.09751662 0.09959131]]\n",
            "Kết quả:  sobon\n",
            "Độ chính xác:  0.110667795\n"
          ]
        },
        {
          "output_type": "display_data",
          "data": {
            "text/plain": [
              "<Figure size 432x288 with 1 Axes>"
            ],
            "image/png": "[encoded data removed]"
          },
          "metadata": {
            "needs_background": "light"
          }
        }
      ]
    },
    {
      "cell_type": "code",
      "source": [
        "metric = model.evaluate(X_test,Y_test, verbose = 2)\n",
        "print('Sai số:',metric[0])\n",
        "print('Độ chính xác:',metric[1])"
      ],
      "metadata": {
        "colab": {
          "base_uri": "https://localhost:8080/"
        },
        "id": "K5CqK6_lWhkX",
        "outputId": "ac84af62-e668-43b7-d606-0b47685e3fd9"
      },
      "execution_count": null,
      "outputs": [
        {
          "output_type": "stream",
          "name": "stdout",
          "text": [
            "313/313 - 4s - loss: 0.0951 - accuracy: 0.9834 - 4s/epoch - 12ms/step\n",
            "Sai số: 0.09507287293672562\n",
            "Độ chính xác: 0.9833999872207642\n"
          ]
        }
      ]
    },
    {
      "cell_type": "code",
      "source": [
        "plt.plot(history.history['accuracy'])\n",
        "plt.plot(history.history['loss'])\n",
        "plt.title('độ chính xác mô hình')\n",
        "plt.ylabel('độ chính xác')\n",
        "plt.xlabel('số lần học')"
      ],
      "metadata": {
        "colab": {
          "base_uri": "https://localhost:8080/",
          "height": 313
        },
        "id": "g4-K1sVkYZ6F",
        "outputId": "9e14be4f-9cc6-4fff-a465-59c209fdb65c"
      },
      "execution_count": null,
      "outputs": [
        {
          "output_type": "execute_result",
          "data": {
            "text/plain": [
              "Text(0.5, 0, 'số lần học')"
            ]
          },
          "metadata": {},
          "execution_count": 48
        },
        {
          "output_type": "display_data",
          "data": {
            "text/plain": [
              "<Figure size 432x288 with 1 Axes>"
            ],
            "image/png": "[encoded data removed]"
          },
          "metadata": {
            "needs_background": "light"
          }
        }
      ]
    },
    {
      "cell_type": "code",
      "source": [
        "plt.legend(['độ chính xác','Sai số'],loc = 'lower right')"
      ],
      "metadata": {
        "colab": {
          "base_uri": "https://localhost:8080/",
          "height": 286
        },
        "id": "j2AdM1i_ZSUB",
        "outputId": "63333343-9127-41d6-8563-5bac527ccda9"
      },
      "execution_count": null,
      "outputs": [
        {
          "output_type": "execute_result",
          "data": {
            "text/plain": [
              "<matplotlib.legend.Legend at 0x7fc216709450>"
            ]
          },
          "metadata": {},
          "execution_count": 49
        },
        {
          "output_type": "display_data",
          "data": {
            "text/plain": [
              "<Figure size 432x288 with 1 Axes>"
            ],
            "image/png": "[encoded data removed]"
          },
          "metadata": {
            "needs_background": "light"
          }
        }
      ]
    }
  ]
}
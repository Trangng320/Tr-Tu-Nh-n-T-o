{
  "nbformat": 4,
  "nbformat_minor": 0,
  "metadata": {
    "colab": {
      "provenance": [],
      "authorship_tag": "ABX9TyNjeVKAHCkaD+VTNoHyp8Wp",
      "include_colab_link": true
    },
    "kernelspec": {
      "name": "python3",
      "display_name": "Python 3"
    },
    "language_info": {
      "name": "python"
    }
  },
  "cells": [
    {
      "cell_type": "markdown",
      "metadata": {
        "id": "view-in-github",
        "colab_type": "text"
      },
      "source": [
        "<a href=\"https://colab.research.google.com/github/Trangng320/Tri-Tue-Nhan-Tao/blob/main/Tr%C3%AD_Tu%E1%BB%87_Nh%C3%A2n_T%E1%BA%A1o_11_10_2022.ipynb\" target=\"_parent\"><img src=\"https://colab.research.google.com/assets/colab-badge.svg\" alt=\"Open In Colab\"/></a>"
      ]
    },
    {
      "cell_type": "code",
      "execution_count": null,
      "metadata": {
        "id": "t--aafb1zFvh"
      },
      "outputs": [],
      "source": [
        "#ANN_ARTIFICIAL NEURAL NETWORK\n",
        "#perception_binary network_classification\n",
        "#multi layer perception\n",
        "#ANN\n",
        "#CNN (Convolutional NN)\n",
        "#RNN\n",
        "#Natural Language Processing\n",
        "#Pre_Trained Network(Yolo)"
      ]
    },
    {
      "cell_type": "code",
      "source": [
        "import numpy as np\n",
        "from sklearn.linear_model import Perceptron\n",
        "x = [[0,0],[1,0],[0,1],[1,1]]\n",
        "y=[0,1,1,1]\n",
        "model = Perceptron()\n",
        "model.fit(x,y)\n",
        "print('Do chinh xac',model.score(x,y))\n",
        "x_test = [[0,0.5],[0.9,-0.2],[1,-0.5],[0.2,0.7]]\n",
        "y_test = model.predict(x_test)\n",
        "print(y_test)"
      ],
      "metadata": {
        "colab": {
          "base_uri": "https://localhost:8080/"
        },
        "id": "um8jJ5Dxue3x",
        "outputId": "1f32384f-e5ac-49ed-8c9d-215649a70207"
      },
      "execution_count": null,
      "outputs": [
        {
          "output_type": "stream",
          "name": "stdout",
          "text": [
            "Do chinh xac 1.0\n",
            "[0 1 0 1]\n"
          ]
        }
      ]
    },
    {
      "cell_type": "code",
      "source": [
        "import numpy as np\n",
        "from sklearn.linear_model import Perceptron\n",
        "from sklearn.model_selection import train_test_split\n",
        "import pandas as pd\n",
        "url = \"crabs.csv\"\n",
        "data = pd.read_csv(url)\n",
        "x= data.drop([\"speies\",\"sex\"],axis=True)\n",
        "y = data[\"sex\"]\n",
        "x_train,x_test,y_train,y_test = train_test_split(x,y,test_size = 0.3)\n",
        "print(x)"
      ],
      "metadata": {
        "colab": {
          "base_uri": "https://localhost:8080/"
        },
        "id": "_dXcc_Qp2krp",
        "outputId": "b4c4ef1f-eedf-497f-b800-2f88964b845b"
      },
      "execution_count": null,
      "outputs": [
        {
          "output_type": "stream",
          "name": "stdout",
          "text": [
            "     index  fontallip  rearwidth  length  width  depth\n",
            "0        1        8.1        6.7    16.1   19.0    7.0\n",
            "1        2        8.8        7.7    18.1   20.8    7.4\n",
            "2        3        9.2        7.8    19.0   22.4    7.7\n",
            "3        4        9.6        7.9    20.1   23.1    8.2\n",
            "4        5        9.8        8.0    20.3   23.0    8.2\n",
            "..     ...        ...        ...     ...    ...    ...\n",
            "195     46       21.4       18.0    41.2   46.2   18.7\n",
            "196     47       21.7       17.1    41.7   47.2   19.6\n",
            "197     48       21.9       17.2    42.6   47.4   19.5\n",
            "198     49       22.5       17.2    43.0   48.7   19.8\n",
            "199     50       23.1       20.2    46.2   52.5   21.1\n",
            "\n",
            "[200 rows x 6 columns]\n"
          ]
        }
      ]
    },
    {
      "cell_type": "code",
      "source": [
        " import numpy as np\n",
        "from sklearn.linear_model import Perceptron\n",
        "from sklearn.model_selection import train_test_split\n",
        "import pandas as pd\n",
        "\n",
        "url = \"crabs.csv\"\n",
        "data = pd.read_csv(url)\n",
        "x = data.drop(data.columns[[0,1,2]], axis=1)\n",
        "y = data[\"sex\"].replace([\"M\",\"F\"],[1,0])\n",
        "\n",
        "x_train,x_test,y_train,y_test = train_test_split(x,y,test_size = 0.3)\n",
        "\n",
        "model = Perceptron()\n",
        "model.fit(x_train, y_train)\n",
        "print(\"Độ chính xác: \", model.score(x_train,y_train))\n",
        "\n",
        "x_input = [[8.1,6.7,16.1,19,7], [9,8.5,19.3,22.7,7.7]]\n",
        "y_pred = model.predict(x_input)\n",
        "\n",
        "print(y_pred)\n"
      ],
      "metadata": {
        "colab": {
          "base_uri": "https://localhost:8080/"
        },
        "id": "AJg7sm9u7GSZ",
        "outputId": "8d90e466-b1d3-4325-f426-dae8288490eb"
      },
      "execution_count": null,
      "outputs": [
        {
          "output_type": "stream",
          "name": "stdout",
          "text": [
            "Độ chính xác:  0.7785714285714286\n",
            "[1 0]\n"
          ]
        },
        {
          "output_type": "stream",
          "name": "stderr",
          "text": [
            "/usr/local/lib/python3.7/dist-packages/sklearn/base.py:451: UserWarning: X does not have valid feature names, but Perceptron was fitted with feature names\n",
            "  \"X does not have valid feature names, but\"\n"
          ]
        }
      ]
    },
    {
      "cell_type": "code",
      "source": [
        "import numpy as np\n",
        "from sklearn.linear_model import Perceptron\n",
        "from sklearn.model_selection import train_test_split \n",
        "from sklearn.datasets import load_iris\n",
        "import pandas as pd\n",
        "url = '/content/iris.csv'\n",
        "data = pd.read_csv(url)\n",
        "data = data[:100]\n",
        "x= data.drop(['variety'],axis = True)\n",
        "y= data['variety'].replace(['Setosa','Versicolor','Virginica'],[1,0,0])\n",
        "x_train,x_test,y_train,y_test = train_test_split(x,y,test_size = 0.3)\n",
        "model = Perceptron()\n",
        "model.fit(x_train,y_train)\n",
        "print('Độ chính xác', model.score(x_train,y_train))\n",
        "x_input = [[5.1,3.5,1.4,0.2],[5.1,2.5,3,1.1]]\n",
        "y_output = model.predict(x_input)\n",
        "print(y_output)"
      ],
      "metadata": {
        "colab": {
          "base_uri": "https://localhost:8080/"
        },
        "id": "MqA5KUdfKpdt",
        "outputId": "b699c7f8-e09a-496d-cc50-534663b48daa"
      },
      "execution_count": null,
      "outputs": [
        {
          "output_type": "stream",
          "name": "stdout",
          "text": [
            "Độ chính xác 1.0\n",
            "[1 0]\n"
          ]
        },
        {
          "output_type": "stream",
          "name": "stderr",
          "text": [
            "/usr/local/lib/python3.7/dist-packages/sklearn/base.py:451: UserWarning: X does not have valid feature names, but Perceptron was fitted with feature names\n",
            "  \"X does not have valid feature names, but\"\n"
          ]
        }
      ]
    },
    {
      "cell_type": "code",
      "source": [],
      "metadata": {
        "id": "uQRe10a7U90S"
      },
      "execution_count": null,
      "outputs": []
    }
  ]
}